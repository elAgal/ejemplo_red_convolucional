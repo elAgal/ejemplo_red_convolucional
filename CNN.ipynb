{
 "cells": [
  {
   "cell_type": "markdown",
   "metadata": {},
   "source": [
    "## Importar librerías\n",
    "Cargaremos las libs que utilizaremos para el ejercicio."
   ]
  },
  {
   "cell_type": "code",
   "execution_count": 1,
   "metadata": {
    "scrolled": true
   },
   "outputs": [
    {
     "name": "stderr",
     "output_type": "stream",
     "text": [
      "Using TensorFlow backend.\n"
     ]
    }
   ],
   "source": [
    "import numpy as np\n",
    "import os\n",
    "import re\n",
    "import matplotlib.pyplot as plt\n",
    "%matplotlib inline\n",
    "from sklearn.model_selection import train_test_split\n",
    "from sklearn.metrics import classification_report\n",
    "import keras\n",
    "from keras.utils import to_categorical\n",
    "from keras.models import Sequential,Input,Model\n",
    "from keras.layers import Dense, Dropout, Flatten\n",
    "from keras.layers import Conv2D, MaxPooling2D\n",
    "from keras.layers.normalization import BatchNormalization\n",
    "from keras.layers.advanced_activations import LeakyReLU"
   ]
  },
  {
   "cell_type": "markdown",
   "metadata": {},
   "source": [
    "## Cargar las imagenes\n",
    "Este proceso *plt.imread(filepath)*  cargará a memoria en un array las 77mil imágenes, por lo que puede tomar varios minutos y consumirá memoria RAM."
   ]
  },
  {
   "cell_type": "code",
   "execution_count": 2,
   "metadata": {
    "scrolled": true
   },
   "outputs": [
    {
     "name": "stdout",
     "output_type": "stream",
     "text": [
      "leyendo imagenes de  C:\\Users\\Jorge Nieto\\DocumentosD\\IA\\sportimages\\\n",
      "C:\\Users\\Jorge Nieto\\DocumentosD\\IA\\sportimages\\americano 1\n",
      "C:\\Users\\Jorge Nieto\\DocumentosD\\IA\\sportimages\\basket 9348\n",
      "C:\\Users\\Jorge Nieto\\DocumentosD\\IA\\sportimages\\beisball 8823\n",
      "C:\\Users\\Jorge Nieto\\DocumentosD\\IA\\sportimages\\boxeo 7752\n",
      "C:\\Users\\Jorge Nieto\\DocumentosD\\IA\\sportimages\\ciclismo 7125\n",
      "C:\\Users\\Jorge Nieto\\DocumentosD\\IA\\sportimages\\f1 7533\n",
      "C:\\Users\\Jorge Nieto\\DocumentosD\\IA\\sportimages\\futbol 5053\n",
      "C:\\Users\\Jorge Nieto\\DocumentosD\\IA\\sportimages\\golf 7617\n",
      "C:\\Users\\Jorge Nieto\\DocumentosD\\IA\\sportimages\\natacion 9768\n",
      "C:\\Users\\Jorge Nieto\\DocumentosD\\IA\\sportimages\\tenis 5172\n",
      "Directorios leidos: 10\n",
      "Imagenes en cada directorio [9349, 8823, 7752, 7125, 7533, 5053, 7617, 9768, 5172, 8936]\n",
      "suma Total de imagenes en subdirs: 77128\n"
     ]
    }
   ],
   "source": [
    "dirname = os.path.join(os.getcwd(), 'sportimages')\n",
    "imgpath = dirname + os.sep \n",
    "\n",
    "images = []\n",
    "directories = []\n",
    "dircount = []\n",
    "prevRoot=''\n",
    "cant=0\n",
    "\n",
    "print(\"leyendo imagenes de \",imgpath)\n",
    "\n",
    "for root, dirnames, filenames in os.walk(imgpath):\n",
    "    for filename in filenames:\n",
    "        if re.search(\"\\.(jpg|jpeg|png|bmp|tiff)$\", filename):\n",
    "            cant=cant+1\n",
    "            filepath = os.path.join(root, filename)\n",
    "            image = plt.imread(filepath)\n",
    "            images.append(image)\n",
    "            b = \"Leyendo...\" + str(cant)\n",
    "            print (b, end=\"\\r\")\n",
    "            if prevRoot !=root:\n",
    "                print(root, cant)\n",
    "                prevRoot=root\n",
    "                directories.append(root)\n",
    "                dircount.append(cant)\n",
    "                cant=0\n",
    "dircount.append(cant)\n",
    "\n",
    "dircount = dircount[1:]\n",
    "dircount[0]=dircount[0]+1\n",
    "print('Directorios leidos:',len(directories))\n",
    "print(\"Imagenes en cada directorio\", dircount)\n",
    "print('suma Total de imagenes en subdirs:',sum(dircount))"
   ]
  },
  {
   "cell_type": "markdown",
   "metadata": {},
   "source": [
    "## Crear etiquetas y clases\n",
    "\n",
    "Crearemos las etiquetas en *labels* , es decir, le daremos valores de 0 al 9 a cada deporte. Esto lo hacemos para poder usar el algoritmo supervisado e indicar que cuando cargamos una imagen de futbol en la red, ya sabemos que corresponde con la «etiqueta 6». Y con esa información, entrada y salida esperada, la red al entrenar, ajustará los pesos de las neuronas.\n",
    "\n",
    "Luego convertimos las etiquetas y las imágenes en *numpy array* con *np.array()* "
   ]
  },
  {
   "cell_type": "code",
   "execution_count": 3,
   "metadata": {
    "scrolled": true
   },
   "outputs": [
    {
     "name": "stdout",
     "output_type": "stream",
     "text": [
      "Cantidad etiquetas creadas:  77128\n"
     ]
    }
   ],
   "source": [
    "labels=[]\n",
    "indice=0\n",
    "for cantidad in dircount:\n",
    "    for i in range(cantidad):\n",
    "        labels.append(indice)\n",
    "    indice=indice+1\n",
    "print(\"Cantidad etiquetas creadas: \",len(labels))"
   ]
  },
  {
   "cell_type": "code",
   "execution_count": 4,
   "metadata": {},
   "outputs": [
    {
     "name": "stdout",
     "output_type": "stream",
     "text": [
      "0 americano\n",
      "1 basket\n",
      "2 beisball\n",
      "3 boxeo\n",
      "4 ciclismo\n",
      "5 f1\n",
      "6 futbol\n",
      "7 golf\n",
      "8 natacion\n",
      "9 tenis\n"
     ]
    }
   ],
   "source": [
    "deportes=[]\n",
    "indice=0\n",
    "for directorio in directories:\n",
    "    name = directorio.split(os.sep)\n",
    "    print(indice , name[len(name)-1])\n",
    "    deportes.append(name[len(name)-1])\n",
    "    indice=indice+1"
   ]
  },
  {
   "cell_type": "code",
   "execution_count": 5,
   "metadata": {},
   "outputs": [
    {
     "name": "stdout",
     "output_type": "stream",
     "text": [
      "Total de salidas :  10\n",
      "Clases de salida :  [0 1 2 3 4 5 6 7 8 9]\n"
     ]
    }
   ],
   "source": [
    "y = np.array(labels)\n",
    "X = np.array(images, dtype=np.uint8) #convierto de lista a numpy\n",
    "\n",
    "# Encontrando los valores de las etiquetas de entrenamiento\n",
    "classes = np.unique(y)\n",
    "nClasses = len(classes)\n",
    "print('Total de salidas : ', nClasses)\n",
    "print('Clases de salida : ', classes)"
   ]
  },
  {
   "cell_type": "markdown",
   "metadata": {},
   "source": [
    "## Creamos sets de Entrenamiento y Test, Validación y Preprocesamiento\n",
    "\n",
    "Nótese la forma de los arrays: veremos que son de 21×28×3, el 3 se refiere a los 3 canales de colores que tiene cada imagen: RGB (red, green, blue) que tiene valores de 0 a 255.\n",
    "\n",
    "Preprocesamos el valor de los pixeles y lo normalizamos para que tengan un valor entre 0 y 1, por eso dividimos en 255.\n",
    "\n",
    "Ademas haremos el «One-Hot encoding» con *to_categorical()*  que se refiere a convertir las etiquetas (nuestras clases) por ejemplo de fútbol un 6 a una salida de tipo (0 0 0 0 0 0 1 0 0 0) Esto es porque así funcionan mejor las redes neuronales para clasificar y se corresponde con una capa de salida de la red neuronal de 10 neuronas.\n",
    "\n",
    "Por último en este bloque, subdividimos los datos en 80-20 para **test** y **entrenamiento** con *train_test_split()*  y nuevamente en 80-20 el de training para obtener un subconjunto de validación."
   ]
  },
  {
   "cell_type": "code",
   "execution_count": 7,
   "metadata": {
    "scrolled": true
   },
   "outputs": [
    {
     "name": "stdout",
     "output_type": "stream",
     "text": [
      "Training data shape :  (61702, 21, 28, 3) (61702,)\n",
      "Testing data shape :  (15426, 21, 28, 3) (15426,)\n"
     ]
    }
   ],
   "source": [
    "#Mezclar todo y crear los grupos de entrenamiento y testing\n",
    "train_X,test_X,train_Y,test_Y = train_test_split(X,y,test_size=0.2)\n",
    "print('Training data shape : ', train_X.shape, train_Y.shape)\n",
    "print('Testing data shape : ', test_X.shape, test_Y.shape)"
   ]
  },
  {
   "cell_type": "code",
   "execution_count": 8,
   "metadata": {},
   "outputs": [
    {
     "data": {
      "text/plain": [
       "Text(0.5, 1.0, 'Ground Truth : 9')"
      ]
     },
     "execution_count": 8,
     "metadata": {},
     "output_type": "execute_result"
    },
    {
     "data": {
      "image/png": "[encoded data removed]",
      "text/plain": [
       "<Figure size 360x360 with 2 Axes>"
      ]
     },
     "metadata": {
      "needs_background": "light"
     },
     "output_type": "display_data"
    }
   ],
   "source": [
    "plt.figure(figsize=[5,5])\n",
    "\n",
    "# Muestra la primera imagen del conjunto de entrenamiento\n",
    "plt.subplot(121)\n",
    "plt.imshow(train_X[0,:,:], cmap='gray')\n",
    "plt.title(\"Ground Truth : {}\".format(train_Y[0]))\n",
    "\n",
    "# Muestra la primera imagen de los datos de prueba\n",
    "plt.subplot(122)\n",
    "plt.imshow(test_X[0,:,:], cmap='gray')\n",
    "plt.title(\"Ground Truth : {}\".format(test_Y[0]))"
   ]
  },
  {
   "cell_type": "code",
   "execution_count": 9,
   "metadata": {},
   "outputs": [],
   "source": [
    "train_X = train_X.astype('float32')\n",
    "test_X = test_X.astype('float32')\n",
    "train_X = train_X / 255.\n",
    "test_X = test_X / 255."
   ]
  },
  {
   "cell_type": "markdown",
   "metadata": {},
   "source": [
    "## One-hot Encoding"
   ]
  },
  {
   "cell_type": "code",
   "execution_count": 10,
   "metadata": {},
   "outputs": [
    {
     "name": "stdout",
     "output_type": "stream",
     "text": [
      "Etiqueta original: 5\n",
      "Después de la conversión one-hot: [0. 0. 0. 0. 0. 1. 0. 0. 0. 0.]\n"
     ]
    }
   ],
   "source": [
    "# Cambio de etiquetas categoricas a estilo One-hot Encoding\n",
    "train_Y_one_hot = to_categorical(train_Y)\n",
    "test_Y_one_hot = to_categorical(test_Y)\n",
    "\n",
    "# Muestra el cambio\n",
    "print('Etiqueta original:', train_Y[0])\n",
    "print('Después de la conversión one-hot:', train_Y_one_hot[0])"
   ]
  },
  {
   "cell_type": "markdown",
   "metadata": {},
   "source": [
    "## Entrenamiento y evaluación"
   ]
  },
  {
   "cell_type": "code",
   "execution_count": 11,
   "metadata": {},
   "outputs": [
    {
     "name": "stdout",
     "output_type": "stream",
     "text": [
      "(49361, 21, 28, 3) (12341, 21, 28, 3) (49361, 10) (12341, 10)\n"
     ]
    }
   ],
   "source": [
    "train_X,valid_X,train_label,valid_label = train_test_split(train_X, train_Y_one_hot, test_size=0.2, random_state=13)\n",
    "\n",
    "print(train_X.shape,valid_X.shape,train_label.shape,valid_label.shape)"
   ]
  },
  {
   "cell_type": "markdown",
   "metadata": {},
   "source": [
    "## Creamos la red \n",
    "\n",
    "Con Keras se crea la Convolutional Neural Network.\n",
    "\n",
    "\n",
    "    Declaramos 3 «constantes»:\n",
    "        El valor inicial del learning rate INIT_LR\n",
    "        cantidad de epochs  y\n",
    "        tamaño batch de imágenes a procesar batch_size.\n",
    "    Crearemos una primer capa de neuronas  «Convolucional de 2 Dimensiones» Conv2D() , donde entrarán nuestras imágenes de 21x28x3.\n",
    "    Aplicaremos 32 filtros (kernel) de tamaño 3×3 que detectan ciertas características de la imagen (ejemplo: lineas verticales).\n",
    "    Utilizaremos La función LeakyReLU como activación de las neuronas.\n",
    "    Haremos un MaxPooling (de 2×2) que reduce la imagen que entra de 21×28 a la mitad,(11×14) manteniendo las características «únicas» que detectó cada kernel.\n",
    "    Para evitar el overfitting, añadimos una técnica llamada Dropout\n",
    "    «Aplanamos» Flatten()  los 32 filtros y creamos una capa de 32 neuronas «tradicionales» Dense()\n",
    "    Y finalizamos la capa de salida con 10 neuronas con activación Softmax, para que se corresponda con el «hot encoding» que hicimos antes.\n",
    "    Luego compilamos nuestra red sport_model.compile()  y le asignamos un optimizador (en este caso de llama Adagrad).\n"
   ]
  },
  {
   "cell_type": "code",
   "execution_count": 12,
   "metadata": {},
   "outputs": [
    {
     "name": "stdout",
     "output_type": "stream",
     "text": [
      "Model: \"sequential_1\"\n",
      "_________________________________________________________________\n",
      "Layer (type)                 Output Shape              Param #   \n",
      "=================================================================\n",
      "conv2d_1 (Conv2D)            (None, 21, 28, 32)        896       \n",
      "_________________________________________________________________\n",
      "leaky_re_lu_1 (LeakyReLU)    (None, 21, 28, 32)        0         \n",
      "_________________________________________________________________\n",
      "max_pooling2d_1 (MaxPooling2 (None, 11, 14, 32)        0         \n",
      "_________________________________________________________________\n",
      "dropout_1 (Dropout)          (None, 11, 14, 32)        0         \n",
      "_________________________________________________________________\n",
      "flatten_1 (Flatten)          (None, 4928)              0         \n",
      "_________________________________________________________________\n",
      "dense_1 (Dense)              (None, 32)                157728    \n",
      "_________________________________________________________________\n",
      "leaky_re_lu_2 (LeakyReLU)    (None, 32)                0         \n",
      "_________________________________________________________________\n",
      "dropout_2 (Dropout)          (None, 32)                0         \n",
      "_________________________________________________________________\n",
      "dense_2 (Dense)              (None, 10)                330       \n",
      "=================================================================\n",
      "Total params: 158,954\n",
      "Trainable params: 158,954\n",
      "Non-trainable params: 0\n",
      "_________________________________________________________________\n"
     ]
    }
   ],
   "source": [
    "INIT_LR = 1e-3\n",
    "epochs = 6\n",
    "batch_size = 64\n",
    "\n",
    "sport_model = Sequential()\n",
    "sport_model.add(Conv2D(32, kernel_size=(3, 3),activation='linear',padding='same',input_shape=(21,28,3)))\n",
    "sport_model.add(LeakyReLU(alpha=0.1))\n",
    "sport_model.add(MaxPooling2D((2, 2),padding='same'))\n",
    "sport_model.add(Dropout(0.5))\n",
    "\n",
    "sport_model.add(Flatten())\n",
    "sport_model.add(Dense(32, activation='linear'))\n",
    "sport_model.add(LeakyReLU(alpha=0.1))\n",
    "sport_model.add(Dropout(0.5)) \n",
    "sport_model.add(Dense(nClasses, activation='softmax'))\n",
    "\n",
    "sport_model.summary()"
   ]
  },
  {
   "cell_type": "code",
   "execution_count": 13,
   "metadata": {},
   "outputs": [],
   "source": [
    "sport_model.compile(loss=keras.losses.categorical_crossentropy, optimizer=keras.optimizers.Adagrad(lr=INIT_LR, decay=INIT_LR / 100),metrics=['accuracy'])"
   ]
  },
  {
   "cell_type": "markdown",
   "metadata": {},
   "source": [
    "## Entrenamos la CNN\n",
    "\n",
    "Con esta linea *sport_model.fit()*  iniciaremos el entrenamiento y validación de nuestra red. Pensemos que introduciremos miles de imágenes, pixeles, arrays, colores, filtros y la red se irá regulando sola, «aprendiendo» los mejores pesos para las más de 150.000 interconexiones para distinguir los 10 deportes. Esto tomará tiempo.\n",
    "\n",
    "Por último guardamos la red YA ENTRENADA *sport_model.save()*  en un formato de archivo h5py ya que nos permitirá poder utilizarla en el futuro SIN necesidad de volver a entrenar."
   ]
  },
  {
   "cell_type": "code",
   "execution_count": 14,
   "metadata": {},
   "outputs": [
    {
     "name": "stdout",
     "output_type": "stream",
     "text": [
      "Train on 49361 samples, validate on 12341 samples\n",
      "Epoch 1/6\n",
      "49361/49361 [==============================] - 22s 453us/step - loss: 1.4820 - accuracy: 0.5084 - val_loss: 1.0114 - val_accuracy: 0.7895\n",
      "Epoch 2/6\n",
      "49361/49361 [==============================] - 20s 399us/step - loss: 1.1498 - accuracy: 0.6272 - val_loss: 0.8424 - val_accuracy: 0.7938\n",
      "Epoch 3/6\n",
      "49361/49361 [==============================] - 20s 396us/step - loss: 1.0439 - accuracy: 0.6616 - val_loss: 0.7638 - val_accuracy: 0.8268\n",
      "Epoch 4/6\n",
      "49361/49361 [==============================] - 19s 384us/step - loss: 0.9791 - accuracy: 0.6867 - val_loss: 0.7118 - val_accuracy: 0.8322\n",
      "Epoch 5/6\n",
      "49361/49361 [==============================] - 19s 389us/step - loss: 0.9318 - accuracy: 0.7029 - val_loss: 0.6705 - val_accuracy: 0.8530\n",
      "Epoch 6/6\n",
      "49361/49361 [==============================] - 19s 381us/step - loss: 0.9014 - accuracy: 0.7139 - val_loss: 0.6399 - val_accuracy: 0.8597\n"
     ]
    }
   ],
   "source": [
    "sport_train = sport_model.fit(train_X, train_label, batch_size=batch_size,epochs=epochs,verbose=1,validation_data=(valid_X, valid_label))"
   ]
  },
  {
   "cell_type": "code",
   "execution_count": 15,
   "metadata": {},
   "outputs": [],
   "source": [
    "# guardamos la red, para reutilizarla en el futuro, sin tener que volver a entrenar\n",
    "sport_model.save(\"sports_mnist.h5py\")"
   ]
  },
  {
   "cell_type": "markdown",
   "metadata": {},
   "source": [
    "## Evaluamos la red"
   ]
  },
  {
   "cell_type": "code",
   "execution_count": 16,
   "metadata": {},
   "outputs": [
    {
     "name": "stdout",
     "output_type": "stream",
     "text": [
      "15426/15426 [==============================] - 2s 106us/step\n"
     ]
    }
   ],
   "source": [
    "test_eval = sport_model.evaluate(test_X, test_Y_one_hot, verbose=1)"
   ]
  },
  {
   "cell_type": "code",
   "execution_count": 17,
   "metadata": {},
   "outputs": [
    {
     "name": "stdout",
     "output_type": "stream",
     "text": [
      "Pérdida: 0.6426831030527256\n",
      "Presición: 0.860819399356842\n"
     ]
    }
   ],
   "source": [
    "print('Pérdida:', test_eval[0])\n",
    "print('Presición:', test_eval[1])"
   ]
  },
  {
   "cell_type": "code",
   "execution_count": 18,
   "metadata": {},
   "outputs": [
    {
     "data": {
      "image/png": "[encoded data removed]",
      "text/plain": [
       "<Figure size 432x288 with 1 Axes>"
      ]
     },
     "metadata": {
      "needs_background": "light"
     },
     "output_type": "display_data"
    },
    {
     "data": {
      "image/png": "[encoded data removed]",
      "text/plain": [
       "<Figure size 432x288 with 1 Axes>"
      ]
     },
     "metadata": {
      "needs_background": "light"
     },
     "output_type": "display_data"
    }
   ],
   "source": [
    "accuracy = sport_train.history['accuracy']\n",
    "val_accuracy = sport_train.history['val_accuracy']\n",
    "loss = sport_train.history['loss']\n",
    "val_loss = sport_train.history['val_loss']\n",
    "epochs = range(len(accuracy))\n",
    "plt.plot(epochs, accuracy, 'bo', label='Precisión del entrenamiento')\n",
    "plt.plot(epochs, val_accuracy, 'b', label='Precisión de validación')\n",
    "plt.title('Precisión de entrenamiento y validación')\n",
    "plt.legend()\n",
    "plt.figure()\n",
    "plt.plot(epochs, loss, 'bo', label='Pérdida en entrenamiento')\n",
    "plt.plot(epochs, val_loss, 'b', label='Pérdida en validación')\n",
    "plt.title('Pérdida en entrenamiento y validación')\n",
    "plt.legend()\n",
    "plt.show()"
   ]
  },
  {
   "cell_type": "code",
   "execution_count": 19,
   "metadata": {},
   "outputs": [
    {
     "data": {
      "text/plain": [
       "((15426,), (15426,))"
      ]
     },
     "execution_count": 19,
     "metadata": {},
     "output_type": "execute_result"
    }
   ],
   "source": [
    "predicted_classes2 = sport_model.predict(test_X)\n",
    "predicted_classes=[]\n",
    "for predicted_sport in predicted_classes2:\n",
    "    predicted_classes.append(predicted_sport.tolist().index(max(predicted_sport)))\n",
    "predicted_classes=np.array(predicted_classes)\n",
    "predicted_classes.shape, test_Y.shape"
   ]
  },
  {
   "cell_type": "markdown",
   "metadata": {},
   "source": [
    "## ¿Qué se puede mejorar?"
   ]
  },
  {
   "cell_type": "code",
   "execution_count": 20,
   "metadata": {},
   "outputs": [
    {
     "name": "stdout",
     "output_type": "stream",
     "text": [
      "Hay 13279 etiquetas correctas\n"
     ]
    },
    {
     "data": {
      "image/png": "[encoded data removed]",
      "text/plain": [
       "<Figure size 432x288 with 9 Axes>"
      ]
     },
     "metadata": {
      "needs_background": "light"
     },
     "output_type": "display_data"
    }
   ],
   "source": [
    "correct = np.where(predicted_classes==test_Y)[0]\n",
    "print(\"Hay %d etiquetas correctas\" % len(correct))\n",
    "for i, correct in enumerate(correct[0:9]):\n",
    "    plt.subplot(3,3,i+1)\n",
    "    plt.imshow(test_X[correct].reshape(21,28,3), cmap='gray', interpolation='none')\n",
    "    plt.title(\"{}, {}\".format(deportes[predicted_classes[correct]],\n",
    "                                                    deportes[test_Y[correct]]))\n",
    "\n",
    "    plt.tight_layout()"
   ]
  },
  {
   "cell_type": "code",
   "execution_count": 21,
   "metadata": {},
   "outputs": [
    {
     "name": "stdout",
     "output_type": "stream",
     "text": [
      "Hay 2147 etiquetas icorrectas\n"
     ]
    },
    {
     "data": {
      "image/png": "[encoded data removed]",
      "text/plain": [
       "<Figure size 432x288 with 8 Axes>"
      ]
     },
     "metadata": {
      "needs_background": "light"
     },
     "output_type": "display_data"
    }
   ],
   "source": [
    "incorrect = np.where(predicted_classes!=test_Y)[0]\n",
    "print(\"Hay %d etiquetas icorrectas\" % len(incorrect))\n",
    "for i, incorrect in enumerate(incorrect[0:9]):\n",
    "    plt.subplot(3,3,i+1)\n",
    "    plt.imshow(test_X[incorrect].reshape(21,28,3), cmap='gray', interpolation='none')\n",
    "    plt.title(\"{}, {}\".format(deportes[predicted_classes[incorrect]],\n",
    "                                                    deportes[test_Y[incorrect]]))\n",
    "    plt.tight_layout()"
   ]
  },
  {
   "cell_type": "code",
   "execution_count": 22,
   "metadata": {},
   "outputs": [
    {
     "name": "stdout",
     "output_type": "stream",
     "text": [
      "              precision    recall  f1-score   support\n",
      "\n",
      "     Class 0       0.79      0.67      0.72      1926\n",
      "     Class 1       0.84      0.91      0.87      1750\n",
      "     Class 2       0.82      0.77      0.79      1558\n",
      "     Class 3       0.88      0.93      0.90      1421\n",
      "     Class 4       0.97      0.99      0.98      1501\n",
      "     Class 5       0.83      0.59      0.69       960\n",
      "     Class 6       0.92      0.84      0.87      1513\n",
      "     Class 7       0.73      0.92      0.81      2003\n",
      "     Class 8       0.93      0.94      0.94      1010\n",
      "     Class 9       0.99      1.00      1.00      1784\n",
      "\n",
      "    accuracy                           0.86     15426\n",
      "   macro avg       0.87      0.85      0.86     15426\n",
      "weighted avg       0.86      0.86      0.86     15426\n",
      "\n"
     ]
    }
   ],
   "source": [
    "target_names = [\"Class {}\".format(i) for i in range(nClasses)]\n",
    "print(classification_report(test_Y, predicted_classes, target_names=target_names))"
   ]
  },
  {
   "cell_type": "markdown",
   "metadata": {},
   "source": [
    "## Resultados obtenidos\n",
    "\n",
    "Ya con nuestra red entrenada, es la hora de la verdad: ponerla a prueba con el set de imágenes para Test que separamos al principio y que son muestras que nunca fueron «vistas» por la máquina."
   ]
  },
  {
   "cell_type": "code",
   "execution_count": 23,
   "metadata": {},
   "outputs": [
    {
     "name": "stdout",
     "output_type": "stream",
     "text": [
      "15426/15426 [==============================] - 2s 115us/step\n",
      "Pérdida de la prueba: 0.6426831030527256\n",
      "Presición de la prueba: 0.860819399356842\n"
     ]
    }
   ],
   "source": [
    "test_eval = sport_model.evaluate(test_X, test_Y_one_hot, verbose=1)\n",
    "\n",
    "print('Pérdida de la prueba:', test_eval[0])\n",
    "print('Presición de la prueba:', test_eval[1])"
   ]
  },
  {
   "cell_type": "markdown",
   "metadata": {},
   "source": [
    "## Probemos el clasificador"
   ]
  },
  {
   "cell_type": "code",
   "execution_count": 24,
   "metadata": {},
   "outputs": [
    {
     "name": "stdout",
     "output_type": "stream",
     "text": [
      "[0.06445732 0.01878724 0.01292877 0.3829449  0.17172474 0.02841834\n",
      " 0.04703004 0.00841363 0.25647977 0.00881518]\n"
     ]
    }
   ],
   "source": [
    "from keras import models\n",
    "from skimage.transform import resize\n",
    "\n",
    "model = models.load_model('sports_mnist.h5py')\n",
    "\n",
    "images=[]\n",
    "filenames=['test_futbol.png','test_basket.png']\n",
    "\n",
    "for filepath in filenames:\n",
    "    image = plt.imread(filepath)\n",
    "    image_resized = resize(image,(21,28,3),preserve_range=True)\n",
    "    images.append(image_resized)\n",
    "    \n",
    "X = np.array(images, dtype=np.uint8)#convertir de lista a numpy\n",
    "test_X=X.astype('float32')\n",
    "test_X=test_X/255.\n",
    "\n",
    "predicted_classes=model.predict(test_X)\n",
    "prediccion=predicted_classes[1] #para ver la predicción de la primera foto\n",
    "\n",
    "print(prediccion)"
   ]
  },
  {
   "cell_type": "code",
   "execution_count": null,
   "metadata": {},
   "outputs": [],
   "source": []
  }
 ],
 "metadata": {
  "kernelspec": {
   "display_name": "Python 3",
   "language": "python",
   "name": "python3"
  },
  "language_info": {
   "codemirror_mode": {
    "name": "ipython",
    "version": 3
   },
   "file_extension": ".py",
   "mimetype": "text/x-python",
   "name": "python",
   "nbconvert_exporter": "python",
   "pygments_lexer": "ipython3",
   "version": "3.7.9"
  }
 },
 "nbformat": 4,
 "nbformat_minor": 4
}
